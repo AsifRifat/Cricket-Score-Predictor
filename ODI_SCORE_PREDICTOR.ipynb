{
 "cells": [
  {
   "cell_type": "markdown",
   "id": "ad428092",
   "metadata": {},
   "source": [
    "# Import necessary libraries"
   ]
  },
  {
   "cell_type": "code",
   "execution_count": 29,
   "id": "7a14271a",
   "metadata": {},
   "outputs": [],
   "source": [
    "import os\n",
    "import pandas as pd\n",
    "import numpy as np\n",
    "import glob\n",
    "import pickle\n",
    "from pandas import DataFrame\n",
    "from sklearn.model_selection import GridSearchCV\n",
    "from sklearn import metrics\n",
    "import matplotlib.pyplot as plt\n",
    "import seaborn as sns\n",
    "import warnings\n",
    "warnings.filterwarnings('ignore')"
   ]
  },
  {
   "cell_type": "markdown",
   "id": "8f923e45",
   "metadata": {},
   "source": [
    "# Merge all csv files of ODI matches"
   ]
  },
  {
   "cell_type": "code",
   "execution_count": null,
   "id": "7d6bf999",
   "metadata": {},
   "outputs": [],
   "source": [
    "extension = 'csv'\n",
    "all_filenames = [i for i in glob.glob('*.{}'.format(extension))]"
   ]
  },
  {
   "cell_type": "code",
   "execution_count": null,
   "id": "916ed6f7",
   "metadata": {},
   "outputs": [],
   "source": [
    "#combine all files in the list\n",
    "combined_csv = pd.concat([pd.read_csv(f) for f in all_filenames ])\n",
    "#export to csv\n",
    "combined_csv.to_csv( \"odi.csv\", index=False)"
   ]
  },
  {
   "cell_type": "markdown",
   "id": "c3ab2a6a",
   "metadata": {},
   "source": [
    "# Import Dataset"
   ]
  },
  {
   "cell_type": "code",
   "execution_count": 8,
   "id": "4bca8a95",
   "metadata": {},
   "outputs": [],
   "source": [
    "df = pd.read_csv(\"odi.csv\")"
   ]
  },
  {
   "cell_type": "code",
   "execution_count": 9,
   "id": "4c2977dd",
   "metadata": {},
   "outputs": [
    {
     "data": {
      "text/html": [
       "<div>\n",
       "<style scoped>\n",
       "    .dataframe tbody tr th:only-of-type {\n",
       "        vertical-align: middle;\n",
       "    }\n",
       "\n",
       "    .dataframe tbody tr th {\n",
       "        vertical-align: top;\n",
       "    }\n",
       "\n",
       "    .dataframe thead th {\n",
       "        text-align: right;\n",
       "    }\n",
       "</style>\n",
       "<table border=\"1\" class=\"dataframe\">\n",
       "  <thead>\n",
       "    <tr style=\"text-align: right;\">\n",
       "      <th></th>\n",
       "      <th>match_id</th>\n",
       "      <th>season</th>\n",
       "      <th>start_date</th>\n",
       "      <th>venue</th>\n",
       "      <th>innings</th>\n",
       "      <th>ball</th>\n",
       "      <th>batting_team</th>\n",
       "      <th>bowling_team</th>\n",
       "      <th>striker</th>\n",
       "      <th>non_striker</th>\n",
       "      <th>bowler</th>\n",
       "      <th>runs_off_bat</th>\n",
       "      <th>extras</th>\n",
       "      <th>wides</th>\n",
       "      <th>noballs</th>\n",
       "      <th>byes</th>\n",
       "      <th>legbyes</th>\n",
       "      <th>penalty</th>\n",
       "      <th>wicket_type</th>\n",
       "      <th>player_dismissed</th>\n",
       "      <th>other_wicket_type</th>\n",
       "      <th>other_player_dismissed</th>\n",
       "    </tr>\n",
       "  </thead>\n",
       "  <tbody>\n",
       "    <tr>\n",
       "      <th>0</th>\n",
       "      <td>1000887</td>\n",
       "      <td>2016/17</td>\n",
       "      <td>2017-01-13</td>\n",
       "      <td>Brisbane Cricket Ground, Woolloongabba</td>\n",
       "      <td>1</td>\n",
       "      <td>0.1</td>\n",
       "      <td>Australia</td>\n",
       "      <td>Pakistan</td>\n",
       "      <td>DA Warner</td>\n",
       "      <td>TM Head</td>\n",
       "      <td>Mohammad Amir</td>\n",
       "      <td>0</td>\n",
       "      <td>0</td>\n",
       "      <td>NaN</td>\n",
       "      <td>NaN</td>\n",
       "      <td>NaN</td>\n",
       "      <td>NaN</td>\n",
       "      <td>NaN</td>\n",
       "      <td>NaN</td>\n",
       "      <td>NaN</td>\n",
       "      <td>NaN</td>\n",
       "      <td>NaN</td>\n",
       "    </tr>\n",
       "    <tr>\n",
       "      <th>1</th>\n",
       "      <td>1000887</td>\n",
       "      <td>2016/17</td>\n",
       "      <td>2017-01-13</td>\n",
       "      <td>Brisbane Cricket Ground, Woolloongabba</td>\n",
       "      <td>1</td>\n",
       "      <td>0.2</td>\n",
       "      <td>Australia</td>\n",
       "      <td>Pakistan</td>\n",
       "      <td>DA Warner</td>\n",
       "      <td>TM Head</td>\n",
       "      <td>Mohammad Amir</td>\n",
       "      <td>0</td>\n",
       "      <td>0</td>\n",
       "      <td>NaN</td>\n",
       "      <td>NaN</td>\n",
       "      <td>NaN</td>\n",
       "      <td>NaN</td>\n",
       "      <td>NaN</td>\n",
       "      <td>NaN</td>\n",
       "      <td>NaN</td>\n",
       "      <td>NaN</td>\n",
       "      <td>NaN</td>\n",
       "    </tr>\n",
       "    <tr>\n",
       "      <th>2</th>\n",
       "      <td>1000887</td>\n",
       "      <td>2016/17</td>\n",
       "      <td>2017-01-13</td>\n",
       "      <td>Brisbane Cricket Ground, Woolloongabba</td>\n",
       "      <td>1</td>\n",
       "      <td>0.3</td>\n",
       "      <td>Australia</td>\n",
       "      <td>Pakistan</td>\n",
       "      <td>DA Warner</td>\n",
       "      <td>TM Head</td>\n",
       "      <td>Mohammad Amir</td>\n",
       "      <td>0</td>\n",
       "      <td>0</td>\n",
       "      <td>NaN</td>\n",
       "      <td>NaN</td>\n",
       "      <td>NaN</td>\n",
       "      <td>NaN</td>\n",
       "      <td>NaN</td>\n",
       "      <td>NaN</td>\n",
       "      <td>NaN</td>\n",
       "      <td>NaN</td>\n",
       "      <td>NaN</td>\n",
       "    </tr>\n",
       "    <tr>\n",
       "      <th>3</th>\n",
       "      <td>1000887</td>\n",
       "      <td>2016/17</td>\n",
       "      <td>2017-01-13</td>\n",
       "      <td>Brisbane Cricket Ground, Woolloongabba</td>\n",
       "      <td>1</td>\n",
       "      <td>0.4</td>\n",
       "      <td>Australia</td>\n",
       "      <td>Pakistan</td>\n",
       "      <td>DA Warner</td>\n",
       "      <td>TM Head</td>\n",
       "      <td>Mohammad Amir</td>\n",
       "      <td>0</td>\n",
       "      <td>0</td>\n",
       "      <td>NaN</td>\n",
       "      <td>NaN</td>\n",
       "      <td>NaN</td>\n",
       "      <td>NaN</td>\n",
       "      <td>NaN</td>\n",
       "      <td>NaN</td>\n",
       "      <td>NaN</td>\n",
       "      <td>NaN</td>\n",
       "      <td>NaN</td>\n",
       "    </tr>\n",
       "    <tr>\n",
       "      <th>4</th>\n",
       "      <td>1000887</td>\n",
       "      <td>2016/17</td>\n",
       "      <td>2017-01-13</td>\n",
       "      <td>Brisbane Cricket Ground, Woolloongabba</td>\n",
       "      <td>1</td>\n",
       "      <td>0.5</td>\n",
       "      <td>Australia</td>\n",
       "      <td>Pakistan</td>\n",
       "      <td>DA Warner</td>\n",
       "      <td>TM Head</td>\n",
       "      <td>Mohammad Amir</td>\n",
       "      <td>0</td>\n",
       "      <td>1</td>\n",
       "      <td>1.0</td>\n",
       "      <td>NaN</td>\n",
       "      <td>NaN</td>\n",
       "      <td>NaN</td>\n",
       "      <td>NaN</td>\n",
       "      <td>NaN</td>\n",
       "      <td>NaN</td>\n",
       "      <td>NaN</td>\n",
       "      <td>NaN</td>\n",
       "    </tr>\n",
       "  </tbody>\n",
       "</table>\n",
       "</div>"
      ],
      "text/plain": [
       "   match_id   season  start_date                                   venue  \\\n",
       "0   1000887  2016/17  2017-01-13  Brisbane Cricket Ground, Woolloongabba   \n",
       "1   1000887  2016/17  2017-01-13  Brisbane Cricket Ground, Woolloongabba   \n",
       "2   1000887  2016/17  2017-01-13  Brisbane Cricket Ground, Woolloongabba   \n",
       "3   1000887  2016/17  2017-01-13  Brisbane Cricket Ground, Woolloongabba   \n",
       "4   1000887  2016/17  2017-01-13  Brisbane Cricket Ground, Woolloongabba   \n",
       "\n",
       "   innings  ball batting_team bowling_team    striker non_striker  \\\n",
       "0        1   0.1    Australia     Pakistan  DA Warner     TM Head   \n",
       "1        1   0.2    Australia     Pakistan  DA Warner     TM Head   \n",
       "2        1   0.3    Australia     Pakistan  DA Warner     TM Head   \n",
       "3        1   0.4    Australia     Pakistan  DA Warner     TM Head   \n",
       "4        1   0.5    Australia     Pakistan  DA Warner     TM Head   \n",
       "\n",
       "          bowler  runs_off_bat  extras  wides  noballs  byes  legbyes  \\\n",
       "0  Mohammad Amir             0       0    NaN      NaN   NaN      NaN   \n",
       "1  Mohammad Amir             0       0    NaN      NaN   NaN      NaN   \n",
       "2  Mohammad Amir             0       0    NaN      NaN   NaN      NaN   \n",
       "3  Mohammad Amir             0       0    NaN      NaN   NaN      NaN   \n",
       "4  Mohammad Amir             0       1    1.0      NaN   NaN      NaN   \n",
       "\n",
       "   penalty wicket_type player_dismissed  other_wicket_type  \\\n",
       "0      NaN         NaN              NaN                NaN   \n",
       "1      NaN         NaN              NaN                NaN   \n",
       "2      NaN         NaN              NaN                NaN   \n",
       "3      NaN         NaN              NaN                NaN   \n",
       "4      NaN         NaN              NaN                NaN   \n",
       "\n",
       "   other_player_dismissed  \n",
       "0                     NaN  \n",
       "1                     NaN  \n",
       "2                     NaN  \n",
       "3                     NaN  \n",
       "4                     NaN  "
      ]
     },
     "execution_count": 9,
     "metadata": {},
     "output_type": "execute_result"
    }
   ],
   "source": [
    "pd.set_option(\"display.max_rows\", None, \"display.max_columns\", None)\n",
    "df.head(5)"
   ]
  },
  {
   "cell_type": "markdown",
   "id": "539ecc40",
   "metadata": {},
   "source": [
    "# Data Pre-processing"
   ]
  },
  {
   "cell_type": "code",
   "execution_count": 10,
   "id": "d89c7ffc",
   "metadata": {},
   "outputs": [],
   "source": [
    "#Sort a data frame by \"start_date\", \"match_id\", \"innings\", \"ball\n",
    "df = df.sort_values(by = [\"start_date\", \"match_id\", \"innings\", \"ball\" ],axis = 0,ascending = [True, True, True, True])"
   ]
  },
  {
   "cell_type": "code",
   "execution_count": 11,
   "id": "d04f36cb",
   "metadata": {},
   "outputs": [],
   "source": [
    "#Keep only first innings of each ODI match\n",
    "df = df[df.innings == 1]"
   ]
  },
  {
   "cell_type": "code",
   "execution_count": 12,
   "id": "4d7d1b1e",
   "metadata": {},
   "outputs": [],
   "source": [
    "#Keep only consistent 12 teams\n",
    "top12_teams = ['Australia', 'England', 'South Africa', 'West Indies', 'Sri Lanka','New Zealand',\n",
    "             'Pakistan', 'India', 'Bangladesh', 'Zimbabwe', 'Ireland', 'Afghanistan']\n",
    "\n",
    "df = df[(df['batting_team'].isin(top12_teams)) & (df['bowling_team'].isin(top12_teams))]"
   ]
  },
  {
   "cell_type": "markdown",
   "id": "1ec7eec0",
   "metadata": {},
   "source": [
    "### Generate new columns"
   ]
  },
  {
   "cell_type": "code",
   "execution_count": 13,
   "id": "fafcc55c",
   "metadata": {},
   "outputs": [],
   "source": [
    "sum_runs_off_bat_extras = df[\"runs_off_bat\"] + df[\"extras\"]\n",
    "\n",
    "df[\"runs\"] = sum_runs_off_bat_extras"
   ]
  },
  {
   "cell_type": "code",
   "execution_count": 14,
   "id": "b6d6c9ac",
   "metadata": {},
   "outputs": [],
   "source": [
    "gr = df.groupby(df.ball.eq(0.1).cumsum())\n",
    "df[\"current_run\"] = gr.runs.cumsum()\n",
    "df[\"total_runs\"] = gr.current_run.transform(\"max\")"
   ]
  },
  {
   "cell_type": "code",
   "execution_count": 15,
   "id": "5b11ead0",
   "metadata": {},
   "outputs": [],
   "source": [
    "df['striker_run'] = df.groupby(['match_id', 'striker'])['runs_off_bat'].cumsum()"
   ]
  },
  {
   "cell_type": "code",
   "execution_count": 16,
   "id": "437e8ae6",
   "metadata": {},
   "outputs": [],
   "source": [
    "m1 = df['striker'].ne(df['striker'].groupby(df['match_id']).shift())\n",
    "m2 = df['striker'].eq(df['non_striker'].shift())\n",
    "m3 = df['non_striker'].eq(df['striker'].shift())\n",
    "m = m1 & (m2 | m3)\n",
    "\n",
    "df['nonstriker_run'] = np.where(m, df['striker_run'].shift(), np.nan)\n",
    "\n",
    "\n",
    "m21 = df['non_striker'] != df['non_striker'].shift()\n",
    "m22 = df['non_striker'] != df['striker'].shift()\n",
    "df['nonstriker_run'] = np.where(m21 & m22, 0, df['nonstriker_run'])\n",
    "\n",
    "m11 = df['match_id'] != df['match_id'].shift()\n",
    "df['nonstriker_run'] = np.where(m11, 0, df['nonstriker_run'])\n",
    "\n",
    "df['nonstriker_run'] = df['nonstriker_run'].ffill(downcast='infer')"
   ]
  },
  {
   "cell_type": "code",
   "execution_count": 17,
   "id": "f285aea3",
   "metadata": {},
   "outputs": [],
   "source": [
    "df['wicket']=(df['wicket_type'].ne('retired hurt') & df['wicket_type'].notna()).groupby(df['match_id']).cumsum()"
   ]
  },
  {
   "cell_type": "code",
   "execution_count": 18,
   "id": "2f0539ce",
   "metadata": {},
   "outputs": [],
   "source": [
    "df['runs_last10'] = df.groupby('match_id',sort=False)['runs'].rolling(min_periods=1, window=60).sum().astype(\"int64\").values"
   ]
  },
  {
   "cell_type": "code",
   "execution_count": 19,
   "id": "5fa8c90e",
   "metadata": {},
   "outputs": [],
   "source": [
    "df['wicket_last10'] = ((df['wicket_type'].ne('retired hurt') & df['wicket_type'].notna())\n",
    "                      .groupby(df['match_id'],sort=False)\n",
    "                      .rolling(min_periods=1, window=60).sum().astype(\"int64\")\n",
    "                      .values)"
   ]
  },
  {
   "cell_type": "markdown",
   "id": "e2a8a72d",
   "metadata": {},
   "source": [
    "# Data cleaning"
   ]
  },
  {
   "cell_type": "code",
   "execution_count": 20,
   "id": "35e2bb79",
   "metadata": {},
   "outputs": [
    {
     "data": {
      "text/plain": [
       "match_id                       0\n",
       "season                         0\n",
       "start_date                     0\n",
       "venue                          0\n",
       "innings                        0\n",
       "ball                           0\n",
       "batting_team                   0\n",
       "bowling_team                   0\n",
       "striker                        0\n",
       "non_striker                    0\n",
       "bowler                         0\n",
       "runs_off_bat                   0\n",
       "extras                         0\n",
       "wides                     485931\n",
       "noballs                   495230\n",
       "byes                      496405\n",
       "legbyes                   491999\n",
       "penalty                   497122\n",
       "wicket_type               483717\n",
       "player_dismissed          483717\n",
       "other_wicket_type         497127\n",
       "other_player_dismissed    497127\n",
       "runs                           0\n",
       "current_run                    0\n",
       "total_runs                     0\n",
       "striker_run                    0\n",
       "nonstriker_run                 0\n",
       "wicket                         0\n",
       "runs_last10                    0\n",
       "wicket_last10                  0\n",
       "dtype: int64"
      ]
     },
     "execution_count": 20,
     "metadata": {},
     "output_type": "execute_result"
    }
   ],
   "source": [
    "df.isnull().sum()"
   ]
  },
  {
   "cell_type": "code",
   "execution_count": 21,
   "id": "31bdf5c4",
   "metadata": {},
   "outputs": [],
   "source": [
    "#Delete first 10 overs of each match\n",
    "df = df[df.ball >= 10.0]"
   ]
  },
  {
   "cell_type": "code",
   "execution_count": 23,
   "id": "3156543c",
   "metadata": {},
   "outputs": [],
   "source": [
    "#Delete low scoring and rain interrupted matches \n",
    "df = df[df.total_runs >= 50]"
   ]
  },
  {
   "cell_type": "code",
   "execution_count": 26,
   "id": "ba7431ee",
   "metadata": {},
   "outputs": [],
   "source": [
    "#Drop unnecessary coulumns that don't have noticible impact on total runs\n",
    "df = df[['ball','current_run','wicket','striker_run'\n",
    "         ,'nonstriker_run','runs_last10','wicket_last10','total_runs']]"
   ]
  },
  {
   "cell_type": "code",
   "execution_count": null,
   "id": "5acb6eb3",
   "metadata": {},
   "outputs": [],
   "source": [
    "df.to_csv('odi_updated.csv', index=False)"
   ]
  },
  {
   "cell_type": "markdown",
   "id": "34e2e8bf",
   "metadata": {},
   "source": [
    "# Exploratory data analysis(EDA)"
   ]
  },
  {
   "cell_type": "code",
   "execution_count": 27,
   "id": "2006b7f4",
   "metadata": {},
   "outputs": [
    {
     "name": "stdout",
     "output_type": "stream",
     "text": [
      "<class 'pandas.core.frame.DataFrame'>\n",
      "Int64Index: 390748 entries, 786341 to 274031\n",
      "Data columns (total 8 columns):\n",
      " #   Column          Non-Null Count   Dtype  \n",
      "---  ------          --------------   -----  \n",
      " 0   ball            390748 non-null  float64\n",
      " 1   current_run     390748 non-null  int64  \n",
      " 2   wicket          390748 non-null  int64  \n",
      " 3   striker_run     390748 non-null  int64  \n",
      " 4   nonstriker_run  390748 non-null  int64  \n",
      " 5   runs_last10     390748 non-null  int64  \n",
      " 6   wicket_last10   390748 non-null  int64  \n",
      " 7   total_runs      390748 non-null  int64  \n",
      "dtypes: float64(1), int64(7)\n",
      "memory usage: 26.8 MB\n"
     ]
    }
   ],
   "source": [
    "df.info()"
   ]
  },
  {
   "cell_type": "code",
   "execution_count": 44,
   "id": "ac327d3f",
   "metadata": {},
   "outputs": [
    {
     "data": {
      "text/html": [
       "<div>\n",
       "<style scoped>\n",
       "    .dataframe tbody tr th:only-of-type {\n",
       "        vertical-align: middle;\n",
       "    }\n",
       "\n",
       "    .dataframe tbody tr th {\n",
       "        vertical-align: top;\n",
       "    }\n",
       "\n",
       "    .dataframe thead th {\n",
       "        text-align: right;\n",
       "    }\n",
       "</style>\n",
       "<table border=\"1\" class=\"dataframe\">\n",
       "  <thead>\n",
       "    <tr style=\"text-align: right;\">\n",
       "      <th></th>\n",
       "      <th>ball</th>\n",
       "      <th>current_run</th>\n",
       "      <th>wicket</th>\n",
       "      <th>striker_run</th>\n",
       "      <th>nonstriker_run</th>\n",
       "      <th>runs_last10</th>\n",
       "      <th>wicket_last10</th>\n",
       "      <th>total_runs</th>\n",
       "    </tr>\n",
       "  </thead>\n",
       "  <tbody>\n",
       "    <tr>\n",
       "      <th>390839</th>\n",
       "      <td>44.3</td>\n",
       "      <td>145</td>\n",
       "      <td>9</td>\n",
       "      <td>0</td>\n",
       "      <td>49</td>\n",
       "      <td>26</td>\n",
       "      <td>3</td>\n",
       "      <td>152</td>\n",
       "    </tr>\n",
       "    <tr>\n",
       "      <th>390840</th>\n",
       "      <td>44.4</td>\n",
       "      <td>146</td>\n",
       "      <td>9</td>\n",
       "      <td>0</td>\n",
       "      <td>49</td>\n",
       "      <td>27</td>\n",
       "      <td>3</td>\n",
       "      <td>152</td>\n",
       "    </tr>\n",
       "    <tr>\n",
       "      <th>390841</th>\n",
       "      <td>44.5</td>\n",
       "      <td>146</td>\n",
       "      <td>9</td>\n",
       "      <td>49</td>\n",
       "      <td>0</td>\n",
       "      <td>27</td>\n",
       "      <td>3</td>\n",
       "      <td>152</td>\n",
       "    </tr>\n",
       "    <tr>\n",
       "      <th>390842</th>\n",
       "      <td>44.6</td>\n",
       "      <td>152</td>\n",
       "      <td>9</td>\n",
       "      <td>55</td>\n",
       "      <td>0</td>\n",
       "      <td>33</td>\n",
       "      <td>3</td>\n",
       "      <td>152</td>\n",
       "    </tr>\n",
       "    <tr>\n",
       "      <th>390843</th>\n",
       "      <td>45.1</td>\n",
       "      <td>152</td>\n",
       "      <td>10</td>\n",
       "      <td>0</td>\n",
       "      <td>55</td>\n",
       "      <td>33</td>\n",
       "      <td>3</td>\n",
       "      <td>152</td>\n",
       "    </tr>\n",
       "  </tbody>\n",
       "</table>\n",
       "</div>"
      ],
      "text/plain": [
       "        ball  current_run  wicket  striker_run  nonstriker_run  runs_last10  \\\n",
       "390839  44.3          145       9            0              49           26   \n",
       "390840  44.4          146       9            0              49           27   \n",
       "390841  44.5          146       9           49               0           27   \n",
       "390842  44.6          152       9           55               0           33   \n",
       "390843  45.1          152      10            0              55           33   \n",
       "\n",
       "        wicket_last10  total_runs  \n",
       "390839              3         152  \n",
       "390840              3         152  \n",
       "390841              3         152  \n",
       "390842              3         152  \n",
       "390843              3         152  "
      ]
     },
     "execution_count": 44,
     "metadata": {},
     "output_type": "execute_result"
    }
   ],
   "source": [
    "df.tail(5)"
   ]
  },
  {
   "cell_type": "code",
   "execution_count": 20,
   "id": "de56c8ca",
   "metadata": {},
   "outputs": [
    {
     "data": {
      "text/html": [
       "<div>\n",
       "<style scoped>\n",
       "    .dataframe tbody tr th:only-of-type {\n",
       "        vertical-align: middle;\n",
       "    }\n",
       "\n",
       "    .dataframe tbody tr th {\n",
       "        vertical-align: top;\n",
       "    }\n",
       "\n",
       "    .dataframe thead th {\n",
       "        text-align: right;\n",
       "    }\n",
       "</style>\n",
       "<table border=\"1\" class=\"dataframe\">\n",
       "  <thead>\n",
       "    <tr style=\"text-align: right;\">\n",
       "      <th></th>\n",
       "      <th>ball</th>\n",
       "      <th>current_run</th>\n",
       "      <th>wicket</th>\n",
       "      <th>striker_run</th>\n",
       "      <th>nonstriker_run</th>\n",
       "      <th>runs_last10</th>\n",
       "      <th>wicket_last10</th>\n",
       "      <th>total_runs</th>\n",
       "    </tr>\n",
       "  </thead>\n",
       "  <tbody>\n",
       "    <tr>\n",
       "      <th>count</th>\n",
       "      <td>390844.000000</td>\n",
       "      <td>390844.00000</td>\n",
       "      <td>390844.00000</td>\n",
       "      <td>390844.000000</td>\n",
       "      <td>390844.000000</td>\n",
       "      <td>390844.000000</td>\n",
       "      <td>390844.000000</td>\n",
       "      <td>390844.000000</td>\n",
       "    </tr>\n",
       "    <tr>\n",
       "      <th>mean</th>\n",
       "      <td>29.067384</td>\n",
       "      <td>140.14211</td>\n",
       "      <td>3.56117</td>\n",
       "      <td>28.329640</td>\n",
       "      <td>28.065996</td>\n",
       "      <td>49.764497</td>\n",
       "      <td>1.321389</td>\n",
       "      <td>256.683334</td>\n",
       "    </tr>\n",
       "    <tr>\n",
       "      <th>std</th>\n",
       "      <td>11.369903</td>\n",
       "      <td>68.14933</td>\n",
       "      <td>2.15500</td>\n",
       "      <td>26.823535</td>\n",
       "      <td>26.320146</td>\n",
       "      <td>16.083727</td>\n",
       "      <td>1.144789</td>\n",
       "      <td>60.915026</td>\n",
       "    </tr>\n",
       "    <tr>\n",
       "      <th>min</th>\n",
       "      <td>10.100000</td>\n",
       "      <td>8.00000</td>\n",
       "      <td>0.00000</td>\n",
       "      <td>0.000000</td>\n",
       "      <td>0.000000</td>\n",
       "      <td>7.000000</td>\n",
       "      <td>0.000000</td>\n",
       "      <td>36.000000</td>\n",
       "    </tr>\n",
       "    <tr>\n",
       "      <th>25%</th>\n",
       "      <td>19.300000</td>\n",
       "      <td>85.00000</td>\n",
       "      <td>2.00000</td>\n",
       "      <td>7.000000</td>\n",
       "      <td>7.000000</td>\n",
       "      <td>39.000000</td>\n",
       "      <td>0.000000</td>\n",
       "      <td>220.000000</td>\n",
       "    </tr>\n",
       "    <tr>\n",
       "      <th>50%</th>\n",
       "      <td>28.600000</td>\n",
       "      <td>130.00000</td>\n",
       "      <td>3.00000</td>\n",
       "      <td>21.000000</td>\n",
       "      <td>21.000000</td>\n",
       "      <td>48.000000</td>\n",
       "      <td>1.000000</td>\n",
       "      <td>258.000000</td>\n",
       "    </tr>\n",
       "    <tr>\n",
       "      <th>75%</th>\n",
       "      <td>38.600000</td>\n",
       "      <td>185.00000</td>\n",
       "      <td>5.00000</td>\n",
       "      <td>42.000000</td>\n",
       "      <td>41.000000</td>\n",
       "      <td>58.000000</td>\n",
       "      <td>2.000000</td>\n",
       "      <td>297.000000</td>\n",
       "    </tr>\n",
       "    <tr>\n",
       "      <th>max</th>\n",
       "      <td>49.900000</td>\n",
       "      <td>481.00000</td>\n",
       "      <td>10.00000</td>\n",
       "      <td>264.000000</td>\n",
       "      <td>264.000000</td>\n",
       "      <td>181.000000</td>\n",
       "      <td>9.000000</td>\n",
       "      <td>481.000000</td>\n",
       "    </tr>\n",
       "  </tbody>\n",
       "</table>\n",
       "</div>"
      ],
      "text/plain": [
       "                ball   current_run        wicket    striker_run  \\\n",
       "count  390844.000000  390844.00000  390844.00000  390844.000000   \n",
       "mean       29.067384     140.14211       3.56117      28.329640   \n",
       "std        11.369903      68.14933       2.15500      26.823535   \n",
       "min        10.100000       8.00000       0.00000       0.000000   \n",
       "25%        19.300000      85.00000       2.00000       7.000000   \n",
       "50%        28.600000     130.00000       3.00000      21.000000   \n",
       "75%        38.600000     185.00000       5.00000      42.000000   \n",
       "max        49.900000     481.00000      10.00000     264.000000   \n",
       "\n",
       "       nonstriker_run    runs_last10  wicket_last10     total_runs  \n",
       "count   390844.000000  390844.000000  390844.000000  390844.000000  \n",
       "mean        28.065996      49.764497       1.321389     256.683334  \n",
       "std         26.320146      16.083727       1.144789      60.915026  \n",
       "min          0.000000       7.000000       0.000000      36.000000  \n",
       "25%          7.000000      39.000000       0.000000     220.000000  \n",
       "50%         21.000000      48.000000       1.000000     258.000000  \n",
       "75%         41.000000      58.000000       2.000000     297.000000  \n",
       "max        264.000000     181.000000       9.000000     481.000000  "
      ]
     },
     "execution_count": 20,
     "metadata": {},
     "output_type": "execute_result"
    }
   ],
   "source": [
    "df.describe()"
   ]
  },
  {
   "cell_type": "code",
   "execution_count": 21,
   "id": "f300e805",
   "metadata": {},
   "outputs": [
    {
     "data": {
      "text/html": [
       "<div>\n",
       "<style scoped>\n",
       "    .dataframe tbody tr th:only-of-type {\n",
       "        vertical-align: middle;\n",
       "    }\n",
       "\n",
       "    .dataframe tbody tr th {\n",
       "        vertical-align: top;\n",
       "    }\n",
       "\n",
       "    .dataframe thead th {\n",
       "        text-align: right;\n",
       "    }\n",
       "</style>\n",
       "<table border=\"1\" class=\"dataframe\">\n",
       "  <thead>\n",
       "    <tr style=\"text-align: right;\">\n",
       "      <th></th>\n",
       "      <th>ball</th>\n",
       "      <th>current_run</th>\n",
       "      <th>wicket</th>\n",
       "      <th>striker_run</th>\n",
       "      <th>nonstriker_run</th>\n",
       "      <th>runs_last10</th>\n",
       "      <th>wicket_last10</th>\n",
       "      <th>total_runs</th>\n",
       "    </tr>\n",
       "  </thead>\n",
       "  <tbody>\n",
       "    <tr>\n",
       "      <th>ball</th>\n",
       "      <td>1.000000</td>\n",
       "      <td>0.890408</td>\n",
       "      <td>0.651502</td>\n",
       "      <td>0.163968</td>\n",
       "      <td>0.146246</td>\n",
       "      <td>0.369653</td>\n",
       "      <td>0.206896</td>\n",
       "      <td>0.113087</td>\n",
       "    </tr>\n",
       "    <tr>\n",
       "      <th>current_run</th>\n",
       "      <td>0.890408</td>\n",
       "      <td>1.000000</td>\n",
       "      <td>0.424114</td>\n",
       "      <td>0.275115</td>\n",
       "      <td>0.247944</td>\n",
       "      <td>0.646752</td>\n",
       "      <td>0.151291</td>\n",
       "      <td>0.419573</td>\n",
       "    </tr>\n",
       "    <tr>\n",
       "      <th>wicket</th>\n",
       "      <td>0.651502</td>\n",
       "      <td>0.424114</td>\n",
       "      <td>1.000000</td>\n",
       "      <td>-0.226435</td>\n",
       "      <td>-0.236346</td>\n",
       "      <td>-0.069644</td>\n",
       "      <td>0.586137</td>\n",
       "      <td>-0.388211</td>\n",
       "    </tr>\n",
       "    <tr>\n",
       "      <th>striker_run</th>\n",
       "      <td>0.163968</td>\n",
       "      <td>0.275115</td>\n",
       "      <td>-0.226435</td>\n",
       "      <td>1.000000</td>\n",
       "      <td>0.054678</td>\n",
       "      <td>0.395914</td>\n",
       "      <td>-0.399320</td>\n",
       "      <td>0.340509</td>\n",
       "    </tr>\n",
       "    <tr>\n",
       "      <th>nonstriker_run</th>\n",
       "      <td>0.146246</td>\n",
       "      <td>0.247944</td>\n",
       "      <td>-0.236346</td>\n",
       "      <td>0.054678</td>\n",
       "      <td>1.000000</td>\n",
       "      <td>0.355128</td>\n",
       "      <td>-0.402042</td>\n",
       "      <td>0.325032</td>\n",
       "    </tr>\n",
       "    <tr>\n",
       "      <th>runs_last10</th>\n",
       "      <td>0.369653</td>\n",
       "      <td>0.646752</td>\n",
       "      <td>-0.069644</td>\n",
       "      <td>0.395914</td>\n",
       "      <td>0.355128</td>\n",
       "      <td>1.000000</td>\n",
       "      <td>-0.127565</td>\n",
       "      <td>0.575301</td>\n",
       "    </tr>\n",
       "    <tr>\n",
       "      <th>wicket_last10</th>\n",
       "      <td>0.206896</td>\n",
       "      <td>0.151291</td>\n",
       "      <td>0.586137</td>\n",
       "      <td>-0.399320</td>\n",
       "      <td>-0.402042</td>\n",
       "      <td>-0.127565</td>\n",
       "      <td>1.000000</td>\n",
       "      <td>-0.269995</td>\n",
       "    </tr>\n",
       "    <tr>\n",
       "      <th>total_runs</th>\n",
       "      <td>0.113087</td>\n",
       "      <td>0.419573</td>\n",
       "      <td>-0.388211</td>\n",
       "      <td>0.340509</td>\n",
       "      <td>0.325032</td>\n",
       "      <td>0.575301</td>\n",
       "      <td>-0.269995</td>\n",
       "      <td>1.000000</td>\n",
       "    </tr>\n",
       "  </tbody>\n",
       "</table>\n",
       "</div>"
      ],
      "text/plain": [
       "                    ball  current_run    wicket  striker_run  nonstriker_run  \\\n",
       "ball            1.000000     0.890408  0.651502     0.163968        0.146246   \n",
       "current_run     0.890408     1.000000  0.424114     0.275115        0.247944   \n",
       "wicket          0.651502     0.424114  1.000000    -0.226435       -0.236346   \n",
       "striker_run     0.163968     0.275115 -0.226435     1.000000        0.054678   \n",
       "nonstriker_run  0.146246     0.247944 -0.236346     0.054678        1.000000   \n",
       "runs_last10     0.369653     0.646752 -0.069644     0.395914        0.355128   \n",
       "wicket_last10   0.206896     0.151291  0.586137    -0.399320       -0.402042   \n",
       "total_runs      0.113087     0.419573 -0.388211     0.340509        0.325032   \n",
       "\n",
       "                runs_last10  wicket_last10  total_runs  \n",
       "ball               0.369653       0.206896    0.113087  \n",
       "current_run        0.646752       0.151291    0.419573  \n",
       "wicket            -0.069644       0.586137   -0.388211  \n",
       "striker_run        0.395914      -0.399320    0.340509  \n",
       "nonstriker_run     0.355128      -0.402042    0.325032  \n",
       "runs_last10        1.000000      -0.127565    0.575301  \n",
       "wicket_last10     -0.127565       1.000000   -0.269995  \n",
       "total_runs         0.575301      -0.269995    1.000000  "
      ]
     },
     "execution_count": 21,
     "metadata": {},
     "output_type": "execute_result"
    }
   ],
   "source": [
    "df.corr()"
   ]
  },
  {
   "cell_type": "code",
   "execution_count": 28,
   "id": "9951e176",
   "metadata": {},
   "outputs": [
    {
     "name": "stdout",
     "output_type": "stream",
     "text": [
      "ball :  362  labels\n",
      "current_run :  456  labels\n",
      "wicket :  11  labels\n",
      "striker_run :  237  labels\n",
      "nonstriker_run :  215  labels\n",
      "runs_last10 :  166  labels\n",
      "wicket_last10 :  10  labels\n",
      "total_runs :  315  labels\n"
     ]
    }
   ],
   "source": [
    "for col in df.columns:\n",
    "    print(col, ': ', len(df[col].unique()), ' labels')"
   ]
  },
  {
   "cell_type": "markdown",
   "id": "a0b6b004",
   "metadata": {},
   "source": [
    "# Histogram"
   ]
  },
  {
   "cell_type": "code",
   "execution_count": 30,
   "id": "59f3d382",
   "metadata": {},
   "outputs": [
    {
     "data": {
      "text/plain": [
       "<AxesSubplot:xlabel='Runs in last 10 overs', ylabel='Density'>"
      ]
     },
     "execution_count": 30,
     "metadata": {},
     "output_type": "execute_result"
    },
    {
     "data": {
      "image/png": "[encoded data removed]",
      "text/plain": [
       "<Figure size 432x288 with 1 Axes>"
      ]
     },
     "metadata": {
      "needs_background": "light"
     },
     "output_type": "display_data"
    }
   ],
   "source": [
    "sns.distplot(df['runs_last10'],color = 'blue', axlabel='Runs in last 10 overs')"
   ]
  },
  {
   "cell_type": "code",
   "execution_count": 31,
   "id": "58f53e44",
   "metadata": {},
   "outputs": [
    {
     "data": {
      "text/plain": [
       "<AxesSubplot:xlabel='Total Runs', ylabel='Density'>"
      ]
     },
     "execution_count": 31,
     "metadata": {},
     "output_type": "execute_result"
    },
    {
     "data": {
      "image/png": "[encoded data removed]",
      "text/plain": [
       "<Figure size 432x288 with 1 Axes>"
      ]
     },
     "metadata": {
      "needs_background": "light"
     },
     "output_type": "display_data"
    }
   ],
   "source": [
    "sns.distplot(df['total_runs'], color = 'green', axlabel = 'Total Runs')"
   ]
  },
  {
   "cell_type": "code",
   "execution_count": 33,
   "id": "8a2de4e1",
   "metadata": {},
   "outputs": [
    {
     "data": {
      "text/plain": [
       "<AxesSubplot:xlabel='wickets in last 10 overs', ylabel='Density'>"
      ]
     },
     "execution_count": 33,
     "metadata": {},
     "output_type": "execute_result"
    },
    {
     "data": {
      "image/png": "[encoded data removed]",
      "text/plain": [
       "<Figure size 432x288 with 1 Axes>"
      ]
     },
     "metadata": {
      "needs_background": "light"
     },
     "output_type": "display_data"
    }
   ],
   "source": [
    "sns.distplot(df['wicket_last10'], color= 'blue', axlabel ='wickets in last 10 overs')"
   ]
  },
  {
   "cell_type": "code",
   "execution_count": 36,
   "id": "9a5341d2",
   "metadata": {},
   "outputs": [
    {
     "data": {
      "image/png": "[encoded data removed]",
      "text/plain": [
       "<Figure size 432x288 with 1 Axes>"
      ]
     },
     "metadata": {
      "needs_background": "light"
     },
     "output_type": "display_data"
    }
   ],
   "source": [
    "plt.scatter(df['ball'], df['current_run'])\n",
    "plt.xlabel('overs')\n",
    "plt.ylabel('current run')\n",
    "plt.show()"
   ]
  },
  {
   "cell_type": "markdown",
   "id": "00ad9e51",
   "metadata": {},
   "source": [
    "# Dependent and independent features"
   ]
  },
  {
   "cell_type": "code",
   "execution_count": 37,
   "id": "b751cc9e",
   "metadata": {},
   "outputs": [],
   "source": [
    "x = df.iloc[: , [0,1,2,3,4,5,6]].values #Input features\n",
    "y = df.iloc[: , 7].values #Label"
   ]
  },
  {
   "cell_type": "code",
   "execution_count": 39,
   "id": "dc0896f1",
   "metadata": {},
   "outputs": [
    {
     "name": "stdout",
     "output_type": "stream",
     "text": [
      "x values are:  [[ 10.1  47.    1.  ...   0.   43.    1. ]\n",
      " [ 10.2  47.    1.  ...   0.   43.    1. ]\n",
      " [ 10.3  47.    1.  ...   0.   43.    1. ]\n",
      " ...\n",
      " [ 44.5 146.    9.  ...   0.   27.    3. ]\n",
      " [ 44.6 152.    9.  ...   0.   33.    3. ]\n",
      " [ 45.1 152.   10.  ...  55.   33.    3. ]]\n",
      "------------------------------\n",
      "y values are:  [229 229 229 ... 152 152 152]\n"
     ]
    }
   ],
   "source": [
    "print('x values are: ', x)\n",
    "print('------------------------------')\n",
    "print('y values are: ', y)"
   ]
  },
  {
   "cell_type": "markdown",
   "id": "b8e4f940",
   "metadata": {},
   "source": [
    "# Split data into training and testing"
   ]
  },
  {
   "cell_type": "code",
   "execution_count": 41,
   "id": "8fea1112",
   "metadata": {},
   "outputs": [],
   "source": [
    "from sklearn.model_selection import train_test_split\n",
    "x_train, x_test, y_train, y_test = train_test_split(x, y, test_size=0.20, random_state= 0)"
   ]
  },
  {
   "cell_type": "code",
   "execution_count": 42,
   "id": "90be96c0",
   "metadata": {},
   "outputs": [
    {
     "name": "stdout",
     "output_type": "stream",
     "text": [
      "Rows and columns for Trainng Independent data:  (312598, 7)\n",
      "Rows and columns for Testing Independent data:  (78150, 7)\n",
      "Rows for Trainng Dependent data:  (312598,)\n",
      "Rows for Testing Dependent data:  (78150,)\n"
     ]
    }
   ],
   "source": [
    "print('Rows and columns for Trainng Independent data: ',x_train.shape) \n",
    "print('Rows and columns for Testing Independent data: ',x_test.shape)\n",
    "print('Rows for Trainng Dependent data: ',y_train.shape) \n",
    "print('Rows for Testing Dependent data: ',y_test.shape) "
   ]
  },
  {
   "cell_type": "markdown",
   "id": "ac3da9fe",
   "metadata": {},
   "source": [
    "# Feature scaling"
   ]
  },
  {
   "cell_type": "code",
   "execution_count": 24,
   "id": "7d0ff8d1",
   "metadata": {},
   "outputs": [],
   "source": [
    "from sklearn.preprocessing import StandardScaler \n",
    "sc = StandardScaler()\n",
    "x_train = sc.fit_transform(x_train)\n",
    "x_test = sc.transform(x_test) "
   ]
  },
  {
   "cell_type": "markdown",
   "id": "5c754fab",
   "metadata": {},
   "source": [
    "## Multiple Linear Regression"
   ]
  },
  {
   "cell_type": "code",
   "execution_count": 9,
   "id": "18aa4ab5",
   "metadata": {},
   "outputs": [
    {
     "data": {
      "text/plain": [
       "{'normalize': False}"
      ]
     },
     "execution_count": 9,
     "metadata": {},
     "output_type": "execute_result"
    }
   ],
   "source": [
    "from sklearn.linear_model import LinearRegression\n",
    "lin = LinearRegression()\n",
    "param_grid = {'normalize': [True, False]}\n",
    "cv_lin = GridSearchCV(estimator=lin, param_grid=param_grid, cv= 5)\n",
    "cv_lin.fit(x_train,y_train)\n",
    "cv_lin.best_params_"
   ]
  },
  {
   "cell_type": "code",
   "execution_count": 10,
   "id": "9cda1862",
   "metadata": {},
   "outputs": [
    {
     "name": "stdout",
     "output_type": "stream",
     "text": [
      "Linear Regression Train Accuracy: 61.37 %\n",
      "Linear Regression Test Accuracy: 61.25 %\n",
      "RMSE: 37.79095319577014\n"
     ]
    }
   ],
   "source": [
    "from sklearn.linear_model import LinearRegression\n",
    "lin = LinearRegression(normalize='False')\n",
    "lin.fit(x_train,y_train)\n",
    "print(\"Linear Regression Train Accuracy: {:.2f} %\".format(lin.score(x_train,y_train)*100))\n",
    "print(\"Linear Regression Test Accuracy: {:.2f} %\".format(lin.score(x_test,y_test)*100))\n",
    "y_pred = lin.predict(x_test) \n",
    "print('RMSE:', np.sqrt(metrics.mean_squared_error(y_test, y_pred)))"
   ]
  },
  {
   "cell_type": "markdown",
   "id": "9da96aa4",
   "metadata": {},
   "source": [
    "## Lasso Regression"
   ]
  },
  {
   "cell_type": "code",
   "execution_count": 11,
   "id": "58b4288c",
   "metadata": {},
   "outputs": [
    {
     "data": {
      "text/plain": [
       "{'alpha': 1e-08, 'normalize': True, 'selection': 'random'}"
      ]
     },
     "execution_count": 11,
     "metadata": {},
     "output_type": "execute_result"
    }
   ],
   "source": [
    "from sklearn.linear_model import Lasso\n",
    "lasso_regressor = Lasso()\n",
    "param_grid = {'alpha': [1e-15,1e-10,1e-8,1e-3,1e-2,1,5,10,20,30,35,40],\n",
    "              'selection': ['random', 'cyclic'],\n",
    "              'normalize': [True, False]\n",
    "            }\n",
    "cv_lasso_regressor = GridSearchCV(estimator=lasso_regressor, param_grid=param_grid, cv= 5)\n",
    "cv_lasso_regressor.fit(x_train,y_train)\n",
    "cv_lasso_regressor.best_params_"
   ]
  },
  {
   "cell_type": "code",
   "execution_count": 11,
   "id": "a85aca2e",
   "metadata": {},
   "outputs": [
    {
     "name": "stdout",
     "output_type": "stream",
     "text": [
      "Lasso Regression Train Accuracy: 61.37 %\n",
      "Lasso Regression Test Accuracy: 61.25 %\n",
      "RMSE: 37.79095324504537\n"
     ]
    }
   ],
   "source": [
    "from sklearn.linear_model import Lasso\n",
    "lasso_regressor = Lasso(alpha=1e-08,normalize='True',selection = 'random')\n",
    "lasso_regressor.fit(x_train,y_train)\n",
    "print(\"Lasso Regression Train Accuracy: {:.2f} %\".format(lasso_regressor.score(x_train,y_train)*100))\n",
    "print(\"Lasso Regression Test Accuracy: {:.2f} %\".format(lasso_regressor.score(x_test,y_test)*100))\n",
    "y_pred = lasso_regressor.predict(x_test) \n",
    "print('RMSE:', np.sqrt(metrics.mean_squared_error(y_test, y_pred)))"
   ]
  },
  {
   "cell_type": "markdown",
   "id": "0f5e8b7a",
   "metadata": {},
   "source": [
    "## Ridge Regression"
   ]
  },
  {
   "cell_type": "code",
   "execution_count": 25,
   "id": "9f44d19a",
   "metadata": {},
   "outputs": [
    {
     "data": {
      "text/plain": [
       "{'alpha': 0.01, 'normalize': False}"
      ]
     },
     "execution_count": 25,
     "metadata": {},
     "output_type": "execute_result"
    }
   ],
   "source": [
    "from sklearn.linear_model import Ridge\n",
    "ridge_regressor = Ridge()\n",
    "param_grid = {'alpha': [1e-15,1e-10,1e-8,1e-3,1e-2,1,5,10,20,30,35,40],\n",
    "              'normalize': [True, False]\n",
    "            }\n",
    "cv_ridge_regressor = GridSearchCV(estimator=ridge_regressor, param_grid=param_grid, cv= 5)\n",
    "cv_ridge_regressor.fit(x_train,y_train)\n",
    "cv_ridge_regressor.best_params_"
   ]
  },
  {
   "cell_type": "code",
   "execution_count": 26,
   "id": "43e7dc26",
   "metadata": {},
   "outputs": [
    {
     "name": "stdout",
     "output_type": "stream",
     "text": [
      "Lasso Regression Train Accuracy: 61.13 %\n",
      "Lasso Regression Test Accuracy: 61.02 %\n",
      "RMSE: 37.90542881884737\n"
     ]
    }
   ],
   "source": [
    "from sklearn.linear_model import Ridge\n",
    "ridge_regressor = Ridge(alpha=0.01,normalize='False')\n",
    "ridge_regressor.fit(x_train,y_train)\n",
    "print(\"Lasso Regression Train Accuracy: {:.2f} %\".format(ridge_regressor.score(x_train,y_train)*100))\n",
    "print(\"Lasso Regression Test Accuracy: {:.2f} %\".format(ridge_regressor.score(x_test,y_test)*100))\n",
    "y_pred = ridge_regressor.predict(x_test) \n",
    "print('RMSE:', np.sqrt(metrics.mean_squared_error(y_test, y_pred)))"
   ]
  },
  {
   "cell_type": "markdown",
   "id": "f8d6ffe5",
   "metadata": {},
   "source": [
    "## K Nearest Neighbors Regression"
   ]
  },
  {
   "cell_type": "code",
   "execution_count": 13,
   "id": "34ec94ce",
   "metadata": {},
   "outputs": [
    {
     "data": {
      "text/plain": [
       "{'n_neighbors': 2}"
      ]
     },
     "execution_count": 13,
     "metadata": {},
     "output_type": "execute_result"
    }
   ],
   "source": [
    "from sklearn.neighbors import KNeighborsRegressor\n",
    "knn_reg = KNeighborsRegressor()\n",
    "param_grid = {'n_neighbors': [2,5,7]\n",
    "             }\n",
    "cv_knn_reg = GridSearchCV(estimator=knn_reg, param_grid=param_grid, cv= 5)\n",
    "cv_knn_reg.fit(x_train,y_train)\n",
    "cv_knn_reg.best_params_"
   ]
  },
  {
   "cell_type": "code",
   "execution_count": 27,
   "id": "65adcb1c",
   "metadata": {},
   "outputs": [
    {
     "name": "stdout",
     "output_type": "stream",
     "text": [
      "KNN Regression Train Accuracy: 96.97 %\n",
      "KNN Regression Test Accuracy: 87.43 %\n",
      "RMSE: 21.52730843916946\n"
     ]
    }
   ],
   "source": [
    "from sklearn.neighbors import KNeighborsRegressor\n",
    "knn_reg = KNeighborsRegressor(n_neighbors=2)\n",
    "knn_reg.fit(x_train,y_train)\n",
    "print(\"KNN Regression Train Accuracy: {:.2f} %\".format(knn_reg.score(x_train,y_train)*100))\n",
    "print(\"KNN Regression Test Accuracy: {:.2f} %\".format(knn_reg.score(x_test,y_test)*100))\n",
    "y_pred = knn_reg.predict(x_test) \n",
    "print('RMSE:', np.sqrt(metrics.mean_squared_error(y_test, y_pred)))"
   ]
  },
  {
   "cell_type": "markdown",
   "id": "de08d17e",
   "metadata": {},
   "source": [
    "## Decision Tree Regression"
   ]
  },
  {
   "cell_type": "code",
   "execution_count": 15,
   "id": "a8c78fc5",
   "metadata": {},
   "outputs": [
    {
     "data": {
      "text/plain": [
       "{'criterion': 'mse', 'splitter': 'best'}"
      ]
     },
     "execution_count": 15,
     "metadata": {},
     "output_type": "execute_result"
    }
   ],
   "source": [
    "from sklearn.tree import DecisionTreeRegressor\n",
    "des_tree = DecisionTreeRegressor()\n",
    "param_grid = {'criterion' : ['mse','friedman_mse'],\n",
    "              'splitter': ['best','random']\n",
    "             }\n",
    "cv_des_tree = GridSearchCV(estimator=des_tree, param_grid=param_grid, cv= 5)\n",
    "cv_des_tree.fit(x_train,y_train)\n",
    "cv_des_tree.best_params_"
   ]
  },
  {
   "cell_type": "code",
   "execution_count": 13,
   "id": "5df0b293",
   "metadata": {},
   "outputs": [
    {
     "name": "stdout",
     "output_type": "stream",
     "text": [
      "DecisionTree Regression Train Accuracy: 100.00 %\n",
      "DecisionTree Regression Test Accuracy: 72.07 %\n",
      "RMSE: 32.08568700361471\n"
     ]
    }
   ],
   "source": [
    "from sklearn.tree import DecisionTreeRegressor\n",
    "des_tree = DecisionTreeRegressor(criterion='mse', splitter='best')\n",
    "des_tree.fit(x_train,y_train)\n",
    "print(\"DecisionTree Regression Train Accuracy: {:.2f} %\".format(des_tree.score(x_train,y_train)*100))\n",
    "print(\"DecisionTree Regression Test Accuracy: {:.2f} %\".format(des_tree.score(x_test,y_test)*100))\n",
    "y_pred = des_tree.predict(x_test) \n",
    "print('RMSE:', np.sqrt(metrics.mean_squared_error(y_test, y_pred)))"
   ]
  },
  {
   "cell_type": "markdown",
   "id": "cc81670d",
   "metadata": {},
   "source": [
    "## Random Forest Regression"
   ]
  },
  {
   "cell_type": "code",
   "execution_count": null,
   "id": "e92b399e",
   "metadata": {},
   "outputs": [],
   "source": [
    "from sklearn.ensemble import RandomForestRegressor\n",
    "random_forest = RandomForestRegressor()\n",
    "param_grid = {'n_estimators': [100,200],\n",
    "              'criterion': ['mse','mae']\n",
    "             }\n",
    "cv_random_forest = GridSearchCV(estimator=random_forest, param_grid=param_grid, cv= 5)\n",
    "cv_random_forest.fit(x_train,y_train)\n",
    "cv_random_forest.best_params_"
   ]
  },
  {
   "cell_type": "code",
   "execution_count": 14,
   "id": "9ccbd3fd",
   "metadata": {},
   "outputs": [
    {
     "name": "stdout",
     "output_type": "stream",
     "text": [
      "RandomForest Regression Train Accuracy: 98.10 %\n",
      "RandomForest Regression Test Accuracy: 86.47 %\n",
      "RMSE: 22.333041949380394\n"
     ]
    }
   ],
   "source": [
    "from sklearn.ensemble import RandomForestRegressor\n",
    "random_forest = RandomForestRegressor(n_estimators=100)\n",
    "random_forest.fit(x_train,y_train)\n",
    "print(\"RandomForest Regression Train Accuracy: {:.2f} %\".format(random_forest.score(x_train,y_train)*100))\n",
    "print(\"RandomForest Regression Test Accuracy: {:.2f} %\".format(random_forest.score(x_test,y_test)*100))\n",
    "y_pred = random_forest.predict(x_test) \n",
    "print('RMSE:', np.sqrt(metrics.mean_squared_error(y_test, y_pred)))"
   ]
  },
  {
   "cell_type": "markdown",
   "id": "8e1782da",
   "metadata": {},
   "source": [
    "# Cross Validation of best performing algorithms"
   ]
  },
  {
   "cell_type": "code",
   "execution_count": 46,
   "id": "5bb7df08",
   "metadata": {},
   "outputs": [
    {
     "data": {
      "text/plain": [
       "array([0.86622789, 0.86691576, 0.86609772, 0.86552657, 0.86726615])"
      ]
     },
     "execution_count": 46,
     "metadata": {},
     "output_type": "execute_result"
    }
   ],
   "source": [
    "from sklearn.model_selection import ShuffleSplit\n",
    "from sklearn.model_selection import cross_val_score\n",
    "\n",
    "cv = ShuffleSplit(n_splits=5, test_size=0.2, random_state=0)\n",
    "cross_val_score(random_forest, x, y, cv=cv)"
   ]
  },
  {
   "cell_type": "code",
   "execution_count": 45,
   "id": "e2ae4863",
   "metadata": {
    "scrolled": true
   },
   "outputs": [
    {
     "data": {
      "text/plain": [
       "array([0.84580976, 0.84569547, 0.84962481, 0.84581611, 0.84497079])"
      ]
     },
     "execution_count": 45,
     "metadata": {},
     "output_type": "execute_result"
    }
   ],
   "source": [
    "from sklearn.model_selection import ShuffleSplit\n",
    "from sklearn.model_selection import cross_val_score\n",
    "\n",
    "cv = ShuffleSplit(n_splits=5, test_size=0.2, random_state=0)\n",
    "cross_val_score(knn_reg, x, y, cv=cv)"
   ]
  },
  {
   "cell_type": "markdown",
   "id": "8dd95fc7",
   "metadata": {},
   "source": [
    "# Predict total score"
   ]
  },
  {
   "cell_type": "code",
   "execution_count": null,
   "id": "88addf2e",
   "metadata": {},
   "outputs": [],
   "source": [
    "y_pred_random = lin_random.predict(x_test) \n",
    "y_pred_random"
   ]
  },
  {
   "cell_type": "code",
   "execution_count": 53,
   "id": "6f73384d",
   "metadata": {},
   "outputs": [
    {
     "name": "stdout",
     "output_type": "stream",
     "text": [
      "Actual values are  [208 308 252 ... 226 225 359]\n",
      "-----------------------------\n",
      "Predicted values are  [208.  288.5 264.  ... 226.  185.5 359. ]\n"
     ]
    }
   ],
   "source": [
    "print('Actual values are ',y_test)\n",
    "print('-----------------------------')\n",
    "print('Predicted values are ',y_pred)"
   ]
  },
  {
   "cell_type": "code",
   "execution_count": 60,
   "id": "9d8e8cc6",
   "metadata": {},
   "outputs": [
    {
     "data": {
      "image/png": "[encoded data removed]",
      "text/plain": [
       "<Figure size 1152x720 with 1 Axes>"
      ]
     },
     "metadata": {
      "needs_background": "light"
     },
     "output_type": "display_data"
    }
   ],
   "source": [
    "df1 = pd.DataFrame({'Actual Total Runs': y_test, 'Predicted Total Runs': y_pred})\n",
    "df1 = df1.head(10)\n",
    "df1.plot(kind='bar',figsize=(16,10))\n",
    "plt.grid(which='major', linestyle='-', linewidth='0.5', color='green')\n",
    "plt.grid(which='minor', linestyle=':', linewidth='0.5', color='black')\n",
    "plt.show()"
   ]
  },
  {
   "cell_type": "code",
   "execution_count": 62,
   "id": "ebd2804f",
   "metadata": {},
   "outputs": [
    {
     "name": "stdout",
     "output_type": "stream",
     "text": [
      "Predicted runs after 50 overs: [353.5]\n"
     ]
    }
   ],
   "source": [
    "run_prediction = knn_reg.predict(sc.transform(np.array([[29.5,211,3,51,29,76,2]])))\n",
    "print(\"Predicted runs after 50 overs:\" , run_prediction)"
   ]
  },
  {
   "cell_type": "code",
   "execution_count": 31,
   "id": "9f5dce78",
   "metadata": {},
   "outputs": [
    {
     "name": "stdout",
     "output_type": "stream",
     "text": [
      "Predicted runs after 50 overs: [246.]\n"
     ]
    }
   ],
   "source": [
    "run_prediction = knn_reg.predict(sc.transform(np.array([[24,101,3,22,3,50,2]])))\n",
    "print(\"Predicted runs after 50 overs:\" , run_prediction)"
   ]
  },
  {
   "cell_type": "markdown",
   "id": "2ed043fc",
   "metadata": {},
   "source": [
    "# Model deployment"
   ]
  },
  {
   "cell_type": "code",
   "execution_count": null,
   "id": "a1f8e2ae",
   "metadata": {},
   "outputs": [],
   "source": [
    "pickle.dump(knn_reg, open('model.pkl', 'wb'))"
   ]
  }
 ],
 "metadata": {
  "kernelspec": {
   "display_name": "Python 3",
   "language": "python",
   "name": "python3"
  },
  "language_info": {
   "codemirror_mode": {
    "name": "ipython",
    "version": 3
   },
   "file_extension": ".py",
   "mimetype": "text/x-python",
   "name": "python",
   "nbconvert_exporter": "python",
   "pygments_lexer": "ipython3",
   "version": "3.8.8"
  }
 },
 "nbformat": 4,
 "nbformat_minor": 5
}
